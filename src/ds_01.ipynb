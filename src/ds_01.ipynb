{
 "cells": [
  {
   "metadata": {},
   "cell_type": "markdown",
   "source": [
    "# NLP beginer\n",
    "\n",
    "https://github.com/proger-n/DS_01_Tweets/blob/main/src/tweets.ipynb\n",
    "\n",
    "### Introduction\n",
    "NLP (natural language processing) — это область знаний и ряд методов и алгоритмов, которые помогают обрабатывать текстовые данные и извлекать из них информацию. Вы уже работали со структурированными данными — таблицами, полными непрерывных и категориальных признаков. Текст является примером полуструктурированных данных. С ним нужно что-то делать, чтобы использовать его, например, в задачах машинного обучения.\n",
    "\n",
    "ЦЕЛЬ РАБОТЫ - предварительная обработка тектовых данных и обучение с помощью различных классификаторов для решения задачи классификации твитов на три класса (негативный, отрицательный и нейтральный)"
   ],
   "id": "62251287a709a8e7"
  },
  {
   "metadata": {},
   "cell_type": "markdown",
   "source": [
    "### 1. Предварительная обработка текста:\n",
    "Здесь перед подачей в классификатор необходимо предобработать текст, есть следующие способы:\n",
    "- [Term Frequency-Inverse Document Frequency (TF-IDF)](https://habr.com/ru/companies/otus/articles/755772/) - это один из наиболее распространенных и мощных методов для извлечения признаков из текстовых данных. TF-IDF вычисляет важность каждого слова в документе относительно количества его употреблений в данном документе и во всей коллекции текстов. Этот метод позволяет выделить ключевые слова и понять, какие слова имеют больший вес для определенного документа в контексте всей коллекции.\n",
    "Перед тем как вычислять TF-IDF, мы должны выполнить предварительную обработку, такую как удаление стоп-слов, приведение к нижнему регистру и токенизация — разбиение текстов на отдельные слова или токены.\n",
    "- Стемминг (stemming) - это грубый эвристический процесс, который отрезает «лишнее» от корня слов, часто это приводит к потере словообразовательных суффиксов. Например слово \"Коты\", станет \"Кот\"\n",
    "- Лематизация - это более тонкий процесс, который использует словарь и морфологический анализ, чтобы в итоге привести слово к его канонической форме – лемме.\n",
    "\n",
    "Примеры лематизации и стемминга: Слово good – это лемма для слова better. Стеммер не увидит эту связь, так как здесь нужно сверяться со словарем.\n",
    "Слово play – это базовая форма слова playing. Тут справятся и стемминг, и лемматизация.\n",
    "Слово meeting может быть как нормальной формой существительного, так и формой глагола to meet, в зависимости от контекста.\n",
    "В отличие от стемминга, лемматизация попробует выбрать правильную лемму,опираясь на контекст."
   ],
   "id": "551ed269b1a41b58"
  },
  {
   "metadata": {},
   "cell_type": "markdown",
   "source": "## 0.Import",
   "id": "8a3bea984b74eff"
  },
  {
   "metadata": {
    "ExecuteTime": {
     "end_time": "2024-06-07T09:52:26.078192Z",
     "start_time": "2024-06-07T09:52:26.073240Z"
    }
   },
   "cell_type": "code",
   "source": [
    "import pandas as pd\n",
    "import zipfile"
   ],
   "id": "initial_id",
   "outputs": [],
   "execution_count": 4
  },
  {
   "metadata": {},
   "cell_type": "markdown",
   "source": [
    "## 1. Подготовка данных\n",
    "Данные хранятся в архиве. в Архиве три файла csv. В одном файле негативные отзыва, в другом позитивные и в третьем нейтральные. csv файлы содержат одну строку и много столбцов, поэтому нужно будет трансопнировать и привести всё в одну таблицу"
   ],
   "id": "c3084dec204c68f4"
  },
  {
   "metadata": {
    "ExecuteTime": {
     "end_time": "2024-06-07T10:27:21.479304Z",
     "start_time": "2024-06-07T10:27:21.281195Z"
    }
   },
   "cell_type": "code",
   "source": [
    "# Распаковываем zip архив\n",
    "with zipfile.ZipFile('../datasets/p00_tweets.zip', 'r') as zip_ref:\n",
    "    zip_ref.extractall('data')\n",
    "    \n",
    "# Читаем файлы в pandas\n",
    "positive_tweets = pd.read_csv('data/processedPositive.csv')\n",
    "print(positive_tweets.shape)\n",
    "\n",
    "neutral_tweets = pd.read_csv('data/processedNeutral.csv')\n",
    "print(neutral_tweets.shape)\n",
    "\n",
    "negative_tweets = pd.read_csv('data/processedNegative.csv')\n",
    "print(negative_tweets.shape)"
   ],
   "id": "c07438aadbb8d87e",
   "outputs": [
    {
     "name": "stdout",
     "output_type": "stream",
     "text": [
      "(0, 1186)\n",
      "(0, 1570)\n",
      "(0, 1117)\n"
     ]
    }
   ],
   "execution_count": 30
  },
  {
   "metadata": {},
   "cell_type": "markdown",
   "source": [
    "### 1.1. Приведем все данные в одну таблицу.\n",
    "Для этого транспонируем исходные таблицы и назначим индексы\n",
    "- 1 - негативный твит\n",
    "- 2 - нейтральный твит\n",
    "- 3 - положительный твит"
   ],
   "id": "f794af4219eab189"
  },
  {
   "metadata": {
    "ExecuteTime": {
     "end_time": "2024-06-07T10:27:26.416335Z",
     "start_time": "2024-06-07T10:27:26.413688Z"
    }
   },
   "cell_type": "code",
   "source": [
    "def prepare_data(df, target_index):\n",
    "    df_new = df.T.reset_index().rename(columns={'index': 'tweet'})\n",
    "    df_new['target'] = target_index\n",
    "    return df_new"
   ],
   "id": "3ddfc15396d3770b",
   "outputs": [],
   "execution_count": 31
  },
  {
   "metadata": {
    "ExecuteTime": {
     "end_time": "2024-06-07T10:27:27.015769Z",
     "start_time": "2024-06-07T10:27:27.002279Z"
    }
   },
   "cell_type": "code",
   "source": [
    "negative_tweets = prepare_data(negative_tweets, target_index=1)\n",
    "neutral_tweets = prepare_data(neutral_tweets, target_index=2)\n",
    "positive_tweets = prepare_data(positive_tweets, target_index=3)\n",
    "\n",
    "df = pd.concat([negative_tweets, neutral_tweets, positive_tweets], ignore_index=True)\n",
    "df.head(200)"
   ],
   "id": "622dc132b66c68d3",
   "outputs": [
    {
     "data": {
      "text/plain": [
       "                                                 tweet  target\n",
       "0                How unhappy  some dogs like it though       1\n",
       "1    talking to my over driver about where I'm goin...       1\n",
       "2    Does anybody know if the Rand's likely to fall...       1\n",
       "3           I miss going to gigs in Liverpool unhappy        1\n",
       "4        There isnt a new Riverdale tonight ? unhappy        1\n",
       "..                                                 ...     ...\n",
       "195                                Beyond sad unhappy        1\n",
       "196                                 Goodnight princess       1\n",
       "197            I love you  have fun with your friends        1\n",
       "198  YG should have sent them to MCD. I want to see...       1\n",
       "199  Something is really wrong. I should be spendin...       1\n",
       "\n",
       "[200 rows x 2 columns]"
      ],
      "text/html": [
       "<div>\n",
       "<style scoped>\n",
       "    .dataframe tbody tr th:only-of-type {\n",
       "        vertical-align: middle;\n",
       "    }\n",
       "\n",
       "    .dataframe tbody tr th {\n",
       "        vertical-align: top;\n",
       "    }\n",
       "\n",
       "    .dataframe thead th {\n",
       "        text-align: right;\n",
       "    }\n",
       "</style>\n",
       "<table border=\"1\" class=\"dataframe\">\n",
       "  <thead>\n",
       "    <tr style=\"text-align: right;\">\n",
       "      <th></th>\n",
       "      <th>tweet</th>\n",
       "      <th>target</th>\n",
       "    </tr>\n",
       "  </thead>\n",
       "  <tbody>\n",
       "    <tr>\n",
       "      <th>0</th>\n",
       "      <td>How unhappy  some dogs like it though</td>\n",
       "      <td>1</td>\n",
       "    </tr>\n",
       "    <tr>\n",
       "      <th>1</th>\n",
       "      <td>talking to my over driver about where I'm goin...</td>\n",
       "      <td>1</td>\n",
       "    </tr>\n",
       "    <tr>\n",
       "      <th>2</th>\n",
       "      <td>Does anybody know if the Rand's likely to fall...</td>\n",
       "      <td>1</td>\n",
       "    </tr>\n",
       "    <tr>\n",
       "      <th>3</th>\n",
       "      <td>I miss going to gigs in Liverpool unhappy</td>\n",
       "      <td>1</td>\n",
       "    </tr>\n",
       "    <tr>\n",
       "      <th>4</th>\n",
       "      <td>There isnt a new Riverdale tonight ? unhappy</td>\n",
       "      <td>1</td>\n",
       "    </tr>\n",
       "    <tr>\n",
       "      <th>...</th>\n",
       "      <td>...</td>\n",
       "      <td>...</td>\n",
       "    </tr>\n",
       "    <tr>\n",
       "      <th>195</th>\n",
       "      <td>Beyond sad unhappy</td>\n",
       "      <td>1</td>\n",
       "    </tr>\n",
       "    <tr>\n",
       "      <th>196</th>\n",
       "      <td>Goodnight princess</td>\n",
       "      <td>1</td>\n",
       "    </tr>\n",
       "    <tr>\n",
       "      <th>197</th>\n",
       "      <td>I love you  have fun with your friends</td>\n",
       "      <td>1</td>\n",
       "    </tr>\n",
       "    <tr>\n",
       "      <th>198</th>\n",
       "      <td>YG should have sent them to MCD. I want to see...</td>\n",
       "      <td>1</td>\n",
       "    </tr>\n",
       "    <tr>\n",
       "      <th>199</th>\n",
       "      <td>Something is really wrong. I should be spendin...</td>\n",
       "      <td>1</td>\n",
       "    </tr>\n",
       "  </tbody>\n",
       "</table>\n",
       "<p>200 rows × 2 columns</p>\n",
       "</div>"
      ]
     },
     "execution_count": 32,
     "metadata": {},
     "output_type": "execute_result"
    }
   ],
   "execution_count": 32
  },
  {
   "metadata": {},
   "cell_type": "markdown",
   "source": [
    "### 1.2. чистим твиты\n",
    "убираем все символы кроме букв и преобразуем к нижнему регистру"
   ],
   "id": "c8773d5415079697"
  },
  {
   "metadata": {
    "ExecuteTime": {
     "end_time": "2024-06-07T10:33:03.112517Z",
     "start_time": "2024-06-07T10:33:03.102913Z"
    }
   },
   "cell_type": "code",
   "source": [
    "def standardize_text(df, text_field):\n",
    "    df[text_field] = df[text_field].str.replace(r'[^a-zA-Z ]', '', regex=True)\n",
    "    df[text_field] = df[text_field].str.lower()\n",
    "    return df\n",
    "\n",
    "df = standardize_text(df, 'tweet')\n",
    "\n",
    "df"
   ],
   "id": "657a588af60dfc08",
   "outputs": [
    {
     "data": {
      "text/plain": [
       "                                                  tweet  target\n",
       "0                 how unhappy  some dogs like it though       1\n",
       "1     talking to my over driver about where im going...       1\n",
       "2     does anybody know if the rands likely to fall ...       1\n",
       "3            i miss going to gigs in liverpool unhappy        1\n",
       "4          there isnt a new riverdale tonight  unhappy        1\n",
       "...                                                 ...     ...\n",
       "3868  thanks for the recent follow happy to connect ...       3\n",
       "3869                top engaged members this week happy       3\n",
       "3870  ngam to  weeks left for cadet pilot exam cryin...       3\n",
       "3871               great youre welcome josh happy  adam       3\n",
       "3872  sixth spot not applicable team higher pa kisse...       3\n",
       "\n",
       "[3873 rows x 2 columns]"
      ],
      "text/html": [
       "<div>\n",
       "<style scoped>\n",
       "    .dataframe tbody tr th:only-of-type {\n",
       "        vertical-align: middle;\n",
       "    }\n",
       "\n",
       "    .dataframe tbody tr th {\n",
       "        vertical-align: top;\n",
       "    }\n",
       "\n",
       "    .dataframe thead th {\n",
       "        text-align: right;\n",
       "    }\n",
       "</style>\n",
       "<table border=\"1\" class=\"dataframe\">\n",
       "  <thead>\n",
       "    <tr style=\"text-align: right;\">\n",
       "      <th></th>\n",
       "      <th>tweet</th>\n",
       "      <th>target</th>\n",
       "    </tr>\n",
       "  </thead>\n",
       "  <tbody>\n",
       "    <tr>\n",
       "      <th>0</th>\n",
       "      <td>how unhappy  some dogs like it though</td>\n",
       "      <td>1</td>\n",
       "    </tr>\n",
       "    <tr>\n",
       "      <th>1</th>\n",
       "      <td>talking to my over driver about where im going...</td>\n",
       "      <td>1</td>\n",
       "    </tr>\n",
       "    <tr>\n",
       "      <th>2</th>\n",
       "      <td>does anybody know if the rands likely to fall ...</td>\n",
       "      <td>1</td>\n",
       "    </tr>\n",
       "    <tr>\n",
       "      <th>3</th>\n",
       "      <td>i miss going to gigs in liverpool unhappy</td>\n",
       "      <td>1</td>\n",
       "    </tr>\n",
       "    <tr>\n",
       "      <th>4</th>\n",
       "      <td>there isnt a new riverdale tonight  unhappy</td>\n",
       "      <td>1</td>\n",
       "    </tr>\n",
       "    <tr>\n",
       "      <th>...</th>\n",
       "      <td>...</td>\n",
       "      <td>...</td>\n",
       "    </tr>\n",
       "    <tr>\n",
       "      <th>3868</th>\n",
       "      <td>thanks for the recent follow happy to connect ...</td>\n",
       "      <td>3</td>\n",
       "    </tr>\n",
       "    <tr>\n",
       "      <th>3869</th>\n",
       "      <td>top engaged members this week happy</td>\n",
       "      <td>3</td>\n",
       "    </tr>\n",
       "    <tr>\n",
       "      <th>3870</th>\n",
       "      <td>ngam to  weeks left for cadet pilot exam cryin...</td>\n",
       "      <td>3</td>\n",
       "    </tr>\n",
       "    <tr>\n",
       "      <th>3871</th>\n",
       "      <td>great youre welcome josh happy  adam</td>\n",
       "      <td>3</td>\n",
       "    </tr>\n",
       "    <tr>\n",
       "      <th>3872</th>\n",
       "      <td>sixth spot not applicable team higher pa kisse...</td>\n",
       "      <td>3</td>\n",
       "    </tr>\n",
       "  </tbody>\n",
       "</table>\n",
       "<p>3873 rows × 2 columns</p>\n",
       "</div>"
      ]
     },
     "execution_count": 34,
     "metadata": {},
     "output_type": "execute_result"
    }
   ],
   "execution_count": 34
  }
 ],
 "metadata": {
  "kernelspec": {
   "display_name": "Python 3",
   "language": "python",
   "name": "python3"
  },
  "language_info": {
   "codemirror_mode": {
    "name": "ipython",
    "version": 2
   },
   "file_extension": ".py",
   "mimetype": "text/x-python",
   "name": "python",
   "nbconvert_exporter": "python",
   "pygments_lexer": "ipython2",
   "version": "2.7.6"
  }
 },
 "nbformat": 4,
 "nbformat_minor": 5
}
